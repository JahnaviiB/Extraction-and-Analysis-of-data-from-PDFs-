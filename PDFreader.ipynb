{
 "cells": [
  {
   "cell_type": "code",
   "execution_count": 2,
   "metadata": {
    "collapsed": true
   },
   "outputs": [
    {
     "name": "stdout",
     "output_type": "stream",
     "text": [
      "Requirement already satisfied: pdfreader in c:\\users\\jahnavi boya\\appdata\\local\\programs\\python\\python311\\lib\\site-packages (0.1.12)\n",
      "Requirement already satisfied: bitarray>=1.1.0 in c:\\users\\jahnavi boya\\appdata\\local\\programs\\python\\python311\\lib\\site-packages (from pdfreader) (2.8.2)\n",
      "Requirement already satisfied: pillow>=7.1.0 in c:\\users\\jahnavi boya\\appdata\\local\\programs\\python\\python311\\lib\\site-packages (from pdfreader) (10.0.1)\n",
      "Requirement already satisfied: pycryptodome>=3.9.9 in c:\\users\\jahnavi boya\\appdata\\local\\programs\\python\\python311\\lib\\site-packages (from pdfreader) (3.19.0)\n",
      "Requirement already satisfied: python-dateutil>=2.8.1 in c:\\users\\jahnavi boya\\appdata\\local\\programs\\python\\python311\\lib\\site-packages (from pdfreader) (2.8.2)\n",
      "Requirement already satisfied: six>=1.5 in c:\\users\\jahnavi boya\\appdata\\local\\programs\\python\\python311\\lib\\site-packages (from python-dateutil>=2.8.1->pdfreader) (1.16.0)\n",
      "Note: you may need to restart the kernel to use updated packages.\n"
     ]
    },
    {
     "name": "stderr",
     "output_type": "stream",
     "text": [
      "\n",
      "[notice] A new release of pip available: 22.3 -> 23.2.1\n",
      "[notice] To update, run: python.exe -m pip install --upgrade pip\n"
     ]
    }
   ],
   "source": [
    "pip install pdfreader"
   ]
  },
  {
   "cell_type": "code",
   "execution_count": 1,
   "outputs": [
    {
     "name": "stdout",
     "output_type": "stream",
     "text": [
      "Your COVID-19 test result\n",
      "\n",
      "NEGATIVE\n",
      "\n",
      "A negative result for this test means that SARS-CoV-2 RNA (the cause of \n",
      "\n",
      "COVID-19) was not detected in the collection sample.\n",
      "\n",
      "What does it mean to have a negative test result?\n",
      "\n",
      "A negative test result does not completely rule out being infected with COVID-19.\n",
      "\n",
      "If you test negative for COVID-19, this means the virus was not detected at the time your \n",
      "specimen was collected. It is still possible that you were very early in your infection at the time of \n",
      "your specimen collection and that you could test positive later.\n",
      "\n",
      "Also, you could be exposed later and still develop the illness. For all these reasons, it is \n",
      "important to follow CDC guidance, including but not limited to frequent hand washing, social \n",
      "distancing, wearing a face covering, covering coughs and sneezes, monitoring symptoms, and \n",
      "cleaning and disinfectant of frequently touched surfaces - even after a negative test result.\n",
      "\n",
      "Collection date\n",
      "November 27, 2020 at 12:10 PM ET\n",
      "\n",
      "Collection location\n",
      "220 FAIRVIEW LANE, CARSON CITY, NV \n",
      "89701\n",
      "\n",
      "Test information\n",
      "\n",
      "Patient's name\n",
      "Cassidy Cichowicz\n",
      "\n",
      "Patient's date of birth\n",
      "June 18, 1994\n",
      "\n",
      "Test type\n",
      "SARS-COV-2 RNA, QL, RT PCR (COVID-19)\n",
      "\n",
      "Provider\n",
      "BAILEY JENNIFER\n",
      "\n",
      "MinuteClinic contact information\n",
      "\n",
      "Customer Service: (886) 389-2727\n",
      "\n",
      "\fYour COVID-19 test result\n",
      "\n",
      "NEGATIVE\n",
      "\n",
      "A negative result for this test means that SARS-CoV-2 RNA (the cause of \n",
      "\n",
      "COVID-19) was not detected in the collection sample.\n",
      "\n",
      "Legal Disclaimer\n",
      "\n",
      "A Not Detected (negative) test result for this test means that SARS- CoV-2 RNA was not present in the specimen \n",
      "above the limit of detection. A negative result does not rule out the possibility of COVID-19 and should not be used \n",
      "as the sole basis for treatment or patient management decisions. If COVID-19 is still suspected, based on exposure \n",
      "history together with other clinical findings, re-testing should be considered in consultation with public health \n",
      "authorities. Laboratory test results should always be considered in the context of clinical observations and \n",
      "epidemiological data in making a final diagnosis and patient management decisions. \n",
      "\n",
      "Please review the \"Fact Sheets\" and FDA authorized labeling available for health care providers and patients using \n",
      "the following websites: \n",
      "https://www.questdiagnostics.com/home/Covid-19/HCP/QuestIVD/fact-sheet.html \n",
      "https://www.questdiagnostics.com/home/Covid-19/Patients/QuestIVD/fact-sheet.html \n",
      "\n",
      "This test has been authorized by the FDA under an Emergency Use Authorization (EUA) for use by authorized \n",
      "laboratories. \n",
      "\n",
      "Due to the current public health emergency, Quest Diagnostics is receiving a high volume of samples from a wide \n",
      "variety of swabs and media for COVID-19 testing. In order to serve patients during this public health crisis, samples \n",
      "from appropriate clinical sources are being tested. Negative test results derived from specimens received in non-\n",
      "commercially manufactured viral collection and transport media, or in media and sample collection kits not yet \n",
      "authorized by FDA for COVID-19 testing should be cautiously evaluated and the patient potentially subjected to \n",
      "extra precautions such as additional clinical monitoring, including collection of an additional specimen. \n",
      "\n",
      "Methodology: Nucleic Acid Amplification Test (NAAT) includes RT-PCR or TMA \n",
      "\n",
      "Additional information about COVID-19 can be found at the Quest Diagnostics website: www.QuestDiagnostics.com/\n",
      "Covid19.\n",
      "\n",
      "\f\n"
     ]
    }
   ],
   "source": [
    "from io import StringIO\n",
    "\n",
    "from pdfminer.converter import TextConverter\n",
    "from pdfminer.layout import LAParams\n",
    "from pdfminer.pdfdocument import PDFDocument\n",
    "from pdfminer.pdfinterp import PDFResourceManager, PDFPageInterpreter\n",
    "from pdfminer.pdfpage import PDFPage\n",
    "from pdfminer.pdfparser import PDFParser\n",
    "\n",
    "output_string = StringIO()\n",
    "with open(r'C:\\Users\\Jahnavi Boya\\OneDrive\\Desktop\\Masters Project\\PDF\\1.pdf', 'rb') as in_file:\n",
    "    parser = PDFParser(in_file)\n",
    "    doc = PDFDocument(parser)\n",
    "    rsrcmgr = PDFResourceManager()\n",
    "    device = TextConverter(rsrcmgr, output_string, laparams=LAParams())\n",
    "    interpreter = PDFPageInterpreter(rsrcmgr, device)\n",
    "    for page in PDFPage.create_pages(doc):\n",
    "        interpreter.process_page(page)\n",
    "\n",
    "print(output_string.getvalue())"
   ],
   "metadata": {
    "collapsed": false
   }
  },
  {
   "cell_type": "code",
   "execution_count": null,
   "outputs": [],
   "source": [],
   "metadata": {
    "collapsed": false
   }
  }
 ],
 "metadata": {
  "kernelspec": {
   "display_name": "Python 3",
   "language": "python",
   "name": "python3"
  },
  "language_info": {
   "codemirror_mode": {
    "name": "ipython",
    "version": 2
   },
   "file_extension": ".py",
   "mimetype": "text/x-python",
   "name": "python",
   "nbconvert_exporter": "python",
   "pygments_lexer": "ipython2",
   "version": "2.7.6"
  }
 },
 "nbformat": 4,
 "nbformat_minor": 0
}
