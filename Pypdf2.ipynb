{
 "cells": [
  {
   "cell_type": "code",
   "execution_count": 1,
   "metadata": {
    "collapsed": true
   },
   "outputs": [
    {
     "name": "stdout",
     "output_type": "stream",
     "text": [
      "Note: you may need to restart the kernel to use updated packages.Collecting PyPDF2\n",
      "  Using cached pypdf2-3.0.1-py3-none-any.whl (232 kB)\n",
      "Installing collected packages: PyPDF2\n",
      "Successfully installed PyPDF2-3.0.1\n",
      "\n"
     ]
    },
    {
     "name": "stderr",
     "output_type": "stream",
     "text": [
      "\n",
      "[notice] A new release of pip available: 22.3 -> 23.2.1\n",
      "[notice] To update, run: python.exe -m pip install --upgrade pip\n"
     ]
    }
   ],
   "source": [
    "pip install PyPDF2\n",
    "\n",
    "#PDF2 has been depricated"
   ]
  },
  {
   "cell_type": "markdown",
   "source": [
    "PDF's Combined"
   ],
   "metadata": {
    "collapsed": false
   }
  },
  {
   "cell_type": "code",
   "execution_count": 7,
   "outputs": [],
   "source": [
    "# importing required modules\n",
    "import PyPDF2\n",
    "\n",
    "\n",
    "def PDFmerge(pdfs, output):\n",
    "    # creating pdf file merger object\n",
    "    pdfMerger = PyPDF2.PdfMerger()\n",
    "\n",
    "    # appending pdfs one by one\n",
    "    for pdf in pdfs:\n",
    "        pdfMerger.append(pdf)\n",
    "\n",
    "        # writing combined pdf to output pdf file\n",
    "        with open(output, 'wb') as f:\n",
    "            pdfMerger.write(f)\n",
    "\n",
    "\n",
    "def main():\n",
    "    # pdf files to merge\n",
    "    pdfs = [r\"C:\\Users\\Jahnavi Boya\\OneDrive\\Desktop\\Masters Project\\PDF\\1.pdf\", r\"C:\\Users\\Jahnavi Boya\\OneDrive\\Desktop\\Masters Project\\PDF\\3.pdf\"]\n",
    "\n",
    "    # output pdf file name\n",
    "    output = 'combined_example.pdf'\n",
    "\n",
    "    # calling pdf merge function\n",
    "    PDFmerge(pdfs=pdfs, output=output)\n",
    "\n",
    "\n",
    "if __name__ == \"__main__\":\n",
    "    # calling the main function\n",
    "    main()\n"
   ],
   "metadata": {
    "collapsed": false
   }
  }
 ],
 "metadata": {
  "kernelspec": {
   "display_name": "Python 3",
   "language": "python",
   "name": "python3"
  },
  "language_info": {
   "codemirror_mode": {
    "name": "ipython",
    "version": 2
   },
   "file_extension": ".py",
   "mimetype": "text/x-python",
   "name": "python",
   "nbconvert_exporter": "python",
   "pygments_lexer": "ipython2",
   "version": "2.7.6"
  }
 },
 "nbformat": 4,
 "nbformat_minor": 0
}
