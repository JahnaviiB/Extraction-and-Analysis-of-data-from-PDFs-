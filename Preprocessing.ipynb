{
 "cells": [
  {
   "cell_type": "code",
   "execution_count": 7,
   "metadata": {
    "collapsed": true
   },
   "outputs": [
    {
     "name": "stdout",
     "output_type": "stream",
     "text": [
      "Collecting pandas\n",
      "  Downloading pandas-2.1.3-cp311-cp311-win_amd64.whl (10.6 MB)\n",
      "     ---------------------------------------- 10.6/10.6 MB 4.1 MB/s eta 0:00:00\n",
      "Requirement already satisfied: numpy<2,>=1.23.2 in c:\\users\\jahnavi boya\\appdata\\local\\programs\\python\\python311\\lib\\site-packages (from pandas) (1.26.0)\n",
      "Requirement already satisfied: python-dateutil>=2.8.2 in c:\\users\\jahnavi boya\\appdata\\local\\programs\\python\\python311\\lib\\site-packages (from pandas) (2.8.2)\n",
      "Collecting pytz>=2020.1\n",
      "  Downloading pytz-2023.3.post1-py2.py3-none-any.whl (502 kB)\n",
      "     -------------------------------------- 502.5/502.5 kB 2.6 MB/s eta 0:00:00\n",
      "Requirement already satisfied: tzdata>=2022.1 in c:\\users\\jahnavi boya\\appdata\\local\\programs\\python\\python311\\lib\\site-packages (from pandas) (2023.3)\n",
      "Requirement already satisfied: six>=1.5 in c:\\users\\jahnavi boya\\appdata\\local\\programs\\python\\python311\\lib\\site-packages (from python-dateutil>=2.8.2->pandas) (1.12.0)\n",
      "Installing collected packages: pytz, pandas\n",
      "Successfully installed pandas-2.1.3 pytz-2023.3.post1\n",
      "Note: you may need to restart the kernel to use updated packages.\n"
     ]
    },
    {
     "name": "stderr",
     "output_type": "stream",
     "text": [
      "\n",
      "[notice] A new release of pip available: 22.3 -> 23.3.1\n",
      "[notice] To update, run: python.exe -m pip install --upgrade pip\n"
     ]
    }
   ],
   "source": [
    "pip install pandas"
   ]
  },
  {
   "cell_type": "code",
   "execution_count": 8,
   "outputs": [
    {
     "name": "stdout",
     "output_type": "stream",
     "text": [
      "Requirement already satisfied: PyPDF2 in c:\\users\\jahnavi boya\\appdata\\local\\programs\\python\\python311\\lib\\site-packages (3.0.1)\n",
      "Note: you may need to restart the kernel to use updated packages.\n"
     ]
    },
    {
     "name": "stderr",
     "output_type": "stream",
     "text": [
      "\n",
      "[notice] A new release of pip available: 22.3 -> 23.3.1\n",
      "[notice] To update, run: python.exe -m pip install --upgrade pip\n"
     ]
    }
   ],
   "source": [
    "pip install PyPDF2"
   ],
   "metadata": {
    "collapsed": false
   }
  },
  {
   "cell_type": "code",
   "execution_count": 9,
   "outputs": [],
   "source": [
    "import pdfplumber\n",
    "import PyPDF2\n",
    "import regex as re\n",
    "import os\n",
    "import pandas as pd\n",
    "from datetime import datetime"
   ],
   "metadata": {
    "collapsed": false
   }
  },
  {
   "cell_type": "code",
   "execution_count": 15,
   "outputs": [],
   "source": [
    "pdf_doc = pdfplumber.open(r'C:\\Users\\Jahnavi Boya\\OneDrive\\Desktop\\Masters Project\\PDF\\1.pdf')\n",
    "pdf_text = ''\n",
    "for single_page in pdf_doc.pages:\n",
    "    pdf_text += single_page.extract_text()"
   ],
   "metadata": {
    "collapsed": false
   }
  },
  {
   "cell_type": "code",
   "execution_count": 16,
   "outputs": [
    {
     "name": "stdout",
     "output_type": "stream",
     "text": [
      "Your COVID-19 test result\n",
      "NEGATIVE\n",
      "A negative result for this test means that SARS-CoV-2 RNA (the cause of\n",
      "COVID-19) was not detected in the collection sample.\n",
      "What does it mean to have a negative test result?\n",
      "A negative test result does not completely rule out being infected with COVID-19.\n",
      "If you test negative for COVID-19, this means the virus was not detected at the time your\n",
      "specimen was collected. It is still possible that you were very early in your infection at the time of\n",
      "your specimen collection and that you could test positive later.\n",
      "Also, you could be exposed later and still develop the illness. For all these reasons, it is\n",
      "important to follow CDC guidance, including but not limited to frequent hand washing, social\n",
      "distancing, wearing a face covering, covering coughs and sneezes, monitoring symptoms, and\n",
      "cleaning and disinfectant of frequently touched surfaces - even after a negative test result.\n",
      "Test information\n",
      "Patient's name Collection date\n",
      "Cassidy Cichowicz November 27, 2020 at 12:10 PM ET\n",
      "Patient's date of birth Collection location\n",
      "June 18, 1994 220 FAIRVIEW LANE, CARSON CITY, NV\n",
      "89701\n",
      "Test type\n",
      "SARS-COV-2 RNA, QL, RT PCR (COVID-19)\n",
      "Provider\n",
      "BAILEY JENNIFER\n",
      "MinuteClinic contact information\n",
      "Customer Service: (886) 389-2727Your COVID-19 test result\n",
      "NEGATIVE\n",
      "A negative result for this test means that SARS-CoV-2 RNA (the cause of\n",
      "COVID-19) was not detected in the collection sample.\n",
      "Legal Disclaimer\n",
      "A Not Detected (negative) test result for this test means that SARS- CoV-2 RNA was not present in the specimen\n",
      "above the limit of detection. A negative result does not rule out the possibility of COVID-19 and should not be used\n",
      "as the sole basis for treatment or patient management decisions. If COVID-19 is still suspected, based on exposure\n",
      "history together with other clinical findings, re-testing should be considered in consultation with public health\n",
      "authorities. Laboratory test results should always be considered in the context of clinical observations and\n",
      "epidemiological data in making a final diagnosis and patient management decisions.\n",
      "Please review the \"Fact Sheets\" and FDA authorized labeling available for health care providers and patients using\n",
      "the following websites:\n",
      "https://www.questdiagnostics.com/home/Covid-19/HCP/QuestIVD/fact-sheet.html\n",
      "https://www.questdiagnostics.com/home/Covid-19/Patients/QuestIVD/fact-sheet.html\n",
      "This test has been authorized by the FDA under an Emergency Use Authorization (EUA) for use by authorized\n",
      "laboratories.\n",
      "Due to the current public health emergency, Quest Diagnostics is receiving a high volume of samples from a wide\n",
      "variety of swabs and media for COVID-19 testing. In order to serve patients during this public health crisis, samples\n",
      "from appropriate clinical sources are being tested. Negative test results derived from specimens received in non-\n",
      "commercially manufactured viral collection and transport media, or in media and sample collection kits not yet\n",
      "authorized by FDA for COVID-19 testing should be cautiously evaluated and the patient potentially subjected to\n",
      "extra precautions such as additional clinical monitoring, including collection of an additional specimen.\n",
      "Methodology: Nucleic Acid Amplification Test (NAAT) includes RT-PCR or TMA\n",
      "Additional information about COVID-19 can be found at the Quest Diagnostics website: www.QuestDiagnostics.com/\n",
      "Covid19.\n"
     ]
    }
   ],
   "source": [
    "print(pdf_text)"
   ],
   "metadata": {
    "collapsed": false
   }
  },
  {
   "cell_type": "code",
   "execution_count": 17,
   "outputs": [],
   "source": [
    "clean_text = re.sub(\"Case\\s?\\d:\\d{1,3}-\\w+-\\d{1,8}-\\w+\\s*Document \\d{1,2}\\s*Filed \\d{2}\\/\\d{2}\\/\\d{4}\\s*Page \\d{1,3} of \\d{1,3}\\(cid:\\d{1,3}\\)\", \" \", pdf_text)"
   ],
   "metadata": {
    "collapsed": false
   }
  },
  {
   "cell_type": "code",
   "execution_count": 31,
   "outputs": [
    {
     "data": {
      "text/plain": "'Your COVID-19 test result NEGATIVE A negative result for this test means that SARS-CoV-2 RNA the cause of COVID-19 was not detected in the collection sample. What does it mean to have a negative test result A negative test result does not completely rule out being infected with COVID-19. If you test negative for COVID-19, this means the virus was not detected at the time your specimen was collected. It is still possible that you were very early in your infection at the time of your specimen collection and that you could test positive later. Also, you could be exposed later and still develop the illness. For all these reasons, it is important to follow CDC guidance, including but not limited to frequent hand washing, social distancing, wearing a face covering, covering coughs and sneezes, monitoring symptoms, and cleaning and disinfectant of frequently touched surfaces - even after a negative test result. Test information Patient\\'s name Collection date Cassidy Cichowicz November 27, 2020 at 12:10 PM ET Patient\\'s date of birth Collection location June 18, 1994 220 FAIRVIEW LANE, CARSON CITY, NV 89701 Test type SARS-COV-2 RNA, QL, RT PCR COVID-19 Provider BAILEY JENNIFER MinuteClinic contact information Customer Service: 886 389-2727Your COVID-19 test result NEGATIVE A negative result for this test means that SARS-CoV-2 RNA the cause of COVID-19 was not detected in the collection sample. Legal Disclaimer A Not Detected negative test result for this test means that SARS- CoV-2 RNA was not present in the specimen above the limit of detection. A negative result does not rule out the possibility of COVID-19 and should not be used as the sole basis for treatment or patient management decisions. If COVID-19 is still suspected, based on exposure history together with other clinical findings, re-testing should be considered in consultation with public health authorities. Laboratory test results should always be considered in the context of clinical observations and epidemiological data in making a final diagnosis and patient management decisions. Please review the \"Fact Sheets\" and FDA authorized labeling available for health care providers and patients using the following websites: https: www.questdiagnostics.com home Covid-19 HCP QuestIVD fact-sheet.html https: www.questdiagnostics.com home Covid-19 Patients QuestIVD fact-sheet.html This test has been authorized by the FDA under an Emergency Use Authorization EUA for use by authorized laboratories. Due to the current public health emergency, Quest Diagnostics is receiving a high volume of samples from a wide variety of swabs and media for COVID-19 testing. In order to serve patients during this public health crisis, samples from appropriate clinical sources are being tested. Negative test results derived from specimens received in non- commercially manufactured viral collection and transport media, or in media and sample collection kits not yet authorized by FDA for COVID-19 testing should be cautiously evaluated and the patient potentially subjected to extra precautions such as additional clinical monitoring, including collection of an additional specimen. Methodology: Nucleic Acid Amplification Test NAAT includes RT-PCR or TMA Additional information about COVID-19 can be found at the Quest Diagnostics website: www.QuestDiagnostics.com Covid19.'"
     },
     "execution_count": 31,
     "metadata": {},
     "output_type": "execute_result"
    }
   ],
   "source": [
    "clean_text"
   ],
   "metadata": {
    "collapsed": false
   }
  },
  {
   "cell_type": "code",
   "execution_count": 18,
   "outputs": [],
   "source": [
    "# remove the numbers and alphabets at the starting of a line which act as bullets\n",
    "clean_text = re.sub(\"\\\\n\\s{1,3}[\\d{0,3}|\\w]\\.\\s*\", \" \", clean_text)"
   ],
   "metadata": {
    "collapsed": false
   }
  },
  {
   "cell_type": "code",
   "execution_count": 32,
   "outputs": [
    {
     "data": {
      "text/plain": "'Your COVID-19 test result NEGATIVE A negative result for this test means that SARS-CoV-2 RNA the cause of COVID-19 was not detected in the collection sample. What does it mean to have a negative test result A negative test result does not completely rule out being infected with COVID-19. If you test negative for COVID-19, this means the virus was not detected at the time your specimen was collected. It is still possible that you were very early in your infection at the time of your specimen collection and that you could test positive later. Also, you could be exposed later and still develop the illness. For all these reasons, it is important to follow CDC guidance, including but not limited to frequent hand washing, social distancing, wearing a face covering, covering coughs and sneezes, monitoring symptoms, and cleaning and disinfectant of frequently touched surfaces - even after a negative test result. Test information Patient\\'s name Collection date Cassidy Cichowicz November 27, 2020 at 12:10 PM ET Patient\\'s date of birth Collection location June 18, 1994 220 FAIRVIEW LANE, CARSON CITY, NV 89701 Test type SARS-COV-2 RNA, QL, RT PCR COVID-19 Provider BAILEY JENNIFER MinuteClinic contact information Customer Service: 886 389-2727Your COVID-19 test result NEGATIVE A negative result for this test means that SARS-CoV-2 RNA the cause of COVID-19 was not detected in the collection sample. Legal Disclaimer A Not Detected negative test result for this test means that SARS- CoV-2 RNA was not present in the specimen above the limit of detection. A negative result does not rule out the possibility of COVID-19 and should not be used as the sole basis for treatment or patient management decisions. If COVID-19 is still suspected, based on exposure history together with other clinical findings, re-testing should be considered in consultation with public health authorities. Laboratory test results should always be considered in the context of clinical observations and epidemiological data in making a final diagnosis and patient management decisions. Please review the \"Fact Sheets\" and FDA authorized labeling available for health care providers and patients using the following websites: https: www.questdiagnostics.com home Covid-19 HCP QuestIVD fact-sheet.html https: www.questdiagnostics.com home Covid-19 Patients QuestIVD fact-sheet.html This test has been authorized by the FDA under an Emergency Use Authorization EUA for use by authorized laboratories. Due to the current public health emergency, Quest Diagnostics is receiving a high volume of samples from a wide variety of swabs and media for COVID-19 testing. In order to serve patients during this public health crisis, samples from appropriate clinical sources are being tested. Negative test results derived from specimens received in non- commercially manufactured viral collection and transport media, or in media and sample collection kits not yet authorized by FDA for COVID-19 testing should be cautiously evaluated and the patient potentially subjected to extra precautions such as additional clinical monitoring, including collection of an additional specimen. Methodology: Nucleic Acid Amplification Test NAAT includes RT-PCR or TMA Additional information about COVID-19 can be found at the Quest Diagnostics website: www.QuestDiagnostics.com Covid19.'"
     },
     "execution_count": 32,
     "metadata": {},
     "output_type": "execute_result"
    }
   ],
   "source": [
    "clean_text"
   ],
   "metadata": {
    "collapsed": false
   }
  },
  {
   "cell_type": "code",
   "execution_count": 19,
   "outputs": [],
   "source": [
    "symbols_regex = \"\\\\?|\\\\!|\\\\||/|`|=|\\\\*|\\\\+|\\\\^|_|~|\\\\[|\\\\]|\\\\{|\\\\}|\\\\(|\\\\)|<|>|@|#|\\\\$|Â°|~|Â¢|Â¥|Â§|Â»|Â«|Â©|Â¶|â¢|Â®|%\"\n",
    "clean_text = re.sub(symbols_regex, \" \", clean_text, flags=re.I)"
   ],
   "metadata": {
    "collapsed": false
   }
  },
  {
   "cell_type": "code",
   "execution_count": 20,
   "outputs": [
    {
     "data": {
      "text/plain": "'Your COVID-19 test result\\nNEGATIVE\\nA negative result for this test means that SARS-CoV-2 RNA  the cause of\\nCOVID-19  was not detected in the collection sample.\\nWhat does it mean to have a negative test result \\nA negative test result does not completely rule out being infected with COVID-19.\\nIf you test negative for COVID-19, this means the virus was not detected at the time your\\nspecimen was collected. It is still possible that you were very early in your infection at the time of\\nyour specimen collection and that you could test positive later.\\nAlso, you could be exposed later and still develop the illness. For all these reasons, it is\\nimportant to follow CDC guidance, including but not limited to frequent hand washing, social\\ndistancing, wearing a face covering, covering coughs and sneezes, monitoring symptoms, and\\ncleaning and disinfectant of frequently touched surfaces - even after a negative test result.\\nTest information\\nPatient\\'s name Collection date\\nCassidy Cichowicz November 27, 2020 at 12:10 PM ET\\nPatient\\'s date of birth Collection location\\nJune 18, 1994 220 FAIRVIEW LANE, CARSON CITY, NV\\n89701\\nTest type\\nSARS-COV-2 RNA, QL, RT PCR  COVID-19 \\nProvider\\nBAILEY JENNIFER\\nMinuteClinic contact information\\nCustomer Service:  886  389-2727Your COVID-19 test result\\nNEGATIVE\\nA negative result for this test means that SARS-CoV-2 RNA  the cause of\\nCOVID-19  was not detected in the collection sample.\\nLegal Disclaimer\\nA Not Detected  negative  test result for this test means that SARS- CoV-2 RNA was not present in the specimen\\nabove the limit of detection. A negative result does not rule out the possibility of COVID-19 and should not be used\\nas the sole basis for treatment or patient management decisions. If COVID-19 is still suspected, based on exposure\\nhistory together with other clinical findings, re-testing should be considered in consultation with public health\\nauthorities. Laboratory test results should always be considered in the context of clinical observations and\\nepidemiological data in making a final diagnosis and patient management decisions.\\nPlease review the \"Fact Sheets\" and FDA authorized labeling available for health care providers and patients using\\nthe following websites:\\nhttps:  www.questdiagnostics.com home Covid-19 HCP QuestIVD fact-sheet.html\\nhttps:  www.questdiagnostics.com home Covid-19 Patients QuestIVD fact-sheet.html\\nThis test has been authorized by the FDA under an Emergency Use Authorization  EUA  for use by authorized\\nlaboratories.\\nDue to the current public health emergency, Quest Diagnostics is receiving a high volume of samples from a wide\\nvariety of swabs and media for COVID-19 testing. In order to serve patients during this public health crisis, samples\\nfrom appropriate clinical sources are being tested. Negative test results derived from specimens received in non-\\ncommercially manufactured viral collection and transport media, or in media and sample collection kits not yet\\nauthorized by FDA for COVID-19 testing should be cautiously evaluated and the patient potentially subjected to\\nextra precautions such as additional clinical monitoring, including collection of an additional specimen.\\nMethodology: Nucleic Acid Amplification Test  NAAT  includes RT-PCR or TMA\\nAdditional information about COVID-19 can be found at the Quest Diagnostics website: www.QuestDiagnostics.com \\nCovid19.'"
     },
     "execution_count": 20,
     "metadata": {},
     "output_type": "execute_result"
    }
   ],
   "source": [
    "clean_text"
   ],
   "metadata": {
    "collapsed": false
   }
  },
  {
   "cell_type": "code",
   "execution_count": 21,
   "outputs": [],
   "source": [
    "# remove extra spaces\n",
    "clean_text = re.sub(\"\\s+\", \" \", clean_text, flags=re.I)"
   ],
   "metadata": {
    "collapsed": false
   }
  },
  {
   "cell_type": "code",
   "execution_count": 22,
   "outputs": [
    {
     "data": {
      "text/plain": "'Your COVID-19 test result NEGATIVE A negative result for this test means that SARS-CoV-2 RNA the cause of COVID-19 was not detected in the collection sample. What does it mean to have a negative test result A negative test result does not completely rule out being infected with COVID-19. If you test negative for COVID-19, this means the virus was not detected at the time your specimen was collected. It is still possible that you were very early in your infection at the time of your specimen collection and that you could test positive later. Also, you could be exposed later and still develop the illness. For all these reasons, it is important to follow CDC guidance, including but not limited to frequent hand washing, social distancing, wearing a face covering, covering coughs and sneezes, monitoring symptoms, and cleaning and disinfectant of frequently touched surfaces - even after a negative test result. Test information Patient\\'s name Collection date Cassidy Cichowicz November 27, 2020 at 12:10 PM ET Patient\\'s date of birth Collection location June 18, 1994 220 FAIRVIEW LANE, CARSON CITY, NV 89701 Test type SARS-COV-2 RNA, QL, RT PCR COVID-19 Provider BAILEY JENNIFER MinuteClinic contact information Customer Service: 886 389-2727Your COVID-19 test result NEGATIVE A negative result for this test means that SARS-CoV-2 RNA the cause of COVID-19 was not detected in the collection sample. Legal Disclaimer A Not Detected negative test result for this test means that SARS- CoV-2 RNA was not present in the specimen above the limit of detection. A negative result does not rule out the possibility of COVID-19 and should not be used as the sole basis for treatment or patient management decisions. If COVID-19 is still suspected, based on exposure history together with other clinical findings, re-testing should be considered in consultation with public health authorities. Laboratory test results should always be considered in the context of clinical observations and epidemiological data in making a final diagnosis and patient management decisions. Please review the \"Fact Sheets\" and FDA authorized labeling available for health care providers and patients using the following websites: https: www.questdiagnostics.com home Covid-19 HCP QuestIVD fact-sheet.html https: www.questdiagnostics.com home Covid-19 Patients QuestIVD fact-sheet.html This test has been authorized by the FDA under an Emergency Use Authorization EUA for use by authorized laboratories. Due to the current public health emergency, Quest Diagnostics is receiving a high volume of samples from a wide variety of swabs and media for COVID-19 testing. In order to serve patients during this public health crisis, samples from appropriate clinical sources are being tested. Negative test results derived from specimens received in non- commercially manufactured viral collection and transport media, or in media and sample collection kits not yet authorized by FDA for COVID-19 testing should be cautiously evaluated and the patient potentially subjected to extra precautions such as additional clinical monitoring, including collection of an additional specimen. Methodology: Nucleic Acid Amplification Test NAAT includes RT-PCR or TMA Additional information about COVID-19 can be found at the Quest Diagnostics website: www.QuestDiagnostics.com Covid19.'"
     },
     "execution_count": 22,
     "metadata": {},
     "output_type": "execute_result"
    }
   ],
   "source": [
    "clean_text"
   ],
   "metadata": {
    "collapsed": false
   }
  },
  {
   "cell_type": "code",
   "execution_count": 23,
   "outputs": [],
   "source": [
    "desired_data = pd.DataFrame(columns = ['filename', 'clean_text'])"
   ],
   "metadata": {
    "collapsed": false
   }
  },
  {
   "cell_type": "code",
   "execution_count": 24,
   "outputs": [
    {
     "data": {
      "text/plain": "datetime.datetime(2023, 11, 13, 19, 56, 44, 389120)"
     },
     "execution_count": 24,
     "metadata": {},
     "output_type": "execute_result"
    }
   ],
   "source": [
    "datetime.now()"
   ],
   "metadata": {
    "collapsed": false
   }
  },
  {
   "cell_type": "code",
   "execution_count": 28,
   "outputs": [
    {
     "data": {
      "text/plain": "(0, 2)"
     },
     "execution_count": 28,
     "metadata": {},
     "output_type": "execute_result"
    }
   ],
   "source": [
    "desired_data.shape"
   ],
   "metadata": {
    "collapsed": false
   }
  },
  {
   "cell_type": "code",
   "execution_count": 30,
   "outputs": [],
   "source": [
    "desired_data.to_csv('filtered_text_PARTIES-PRAYER_FOR_RELIEF.csv', index=False)"
   ],
   "metadata": {
    "collapsed": false
   }
  },
  {
   "cell_type": "code",
   "execution_count": null,
   "outputs": [],
   "source": [],
   "metadata": {
    "collapsed": false
   }
  }
 ],
 "metadata": {
  "kernelspec": {
   "display_name": "Python 3",
   "language": "python",
   "name": "python3"
  },
  "language_info": {
   "codemirror_mode": {
    "name": "ipython",
    "version": 2
   },
   "file_extension": ".py",
   "mimetype": "text/x-python",
   "name": "python",
   "nbconvert_exporter": "python",
   "pygments_lexer": "ipython2",
   "version": "2.7.6"
  }
 },
 "nbformat": 4,
 "nbformat_minor": 0
}
